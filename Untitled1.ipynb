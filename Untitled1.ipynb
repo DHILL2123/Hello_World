{
 "cells": [
  {
   "cell_type": "code",
   "execution_count": 2,
   "id": "2f7bcbec",
   "metadata": {},
   "outputs": [
    {
     "name": "stdout",
     "output_type": "stream",
     "text": [
      "Data not available to calculate fair value.\n"
     ]
    }
   ],
   "source": [
    "import yfinance as yf\n",
    "\n",
    "def fetch_stock_data(ticker):\n",
    "    \"\"\"Fetches stock data for a given ticker.\"\"\"\n",
    "    stock = yf.Ticker(ticker)\n",
    "    return stock.info\n",
    "\n",
    "def calculate_fair_value(eps, industry_pe):\n",
    "    \"\"\"Calculates the fair value of the stock based on industry P/E ratio.\"\"\"\n",
    "    return eps * industry_pe\n",
    "\n",
    "def main():\n",
    "    ticker = 'AAPL'  # Example ticker\n",
    "    industry_pe = 15  # Example industry average P/E ratio; this should be set appropriately\n",
    "\n",
    "    stock_data = fetch_stock_data(ticker)\n",
    "    current_price = stock_data.get('regularMarketPrice')\n",
    "    eps = stock_data.get('trailingEps')\n",
    "\n",
    "    if current_price and eps:\n",
    "        fair_value = calculate_fair_value(eps, industry_pe)\n",
    "        print(f\"Fair Value of {ticker}: {fair_value}\")\n",
    "        print(f\"Current Market Price: {current_price}\")\n",
    "        valuation = 'Undervalued' if current_price < fair_value else 'Overvalued' if current_price > fair_value else 'Fairly Valued'\n",
    "        print(f\"Valuation: {valuation}\")\n",
    "    else:\n",
    "        print(\"Data not available to calculate fair value.\")\n",
    "\n",
    "if __name__ == \"__main__\":\n",
    "    main()\n"
   ]
  },
  {
   "cell_type": "code",
   "execution_count": null,
   "id": "e5801249",
   "metadata": {},
   "outputs": [],
   "source": []
  }
 ],
 "metadata": {
  "kernelspec": {
   "display_name": "Python 3 (ipykernel)",
   "language": "python",
   "name": "python3"
  },
  "language_info": {
   "codemirror_mode": {
    "name": "ipython",
    "version": 3
   },
   "file_extension": ".py",
   "mimetype": "text/x-python",
   "name": "python",
   "nbconvert_exporter": "python",
   "pygments_lexer": "ipython3",
   "version": "3.9.13"
  }
 },
 "nbformat": 4,
 "nbformat_minor": 5
}
