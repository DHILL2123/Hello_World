{
 "cells": [
  {
   "cell_type": "markdown",
   "id": "5e4b12b4",
   "metadata": {},
   "source": [
    "##Exploration\n",
    "#What can we say about the data now that we have it in proper working condition?\n",
    "\n",
    "#steps in this process:\n",
    "1.Univariate Exploration\n",
    "-visualizations (distributive)\n",
    "\n",
    "2.Bivariate Exploration\n",
    "-visualizations (comparative)\n",
    "\n",
    "3.Multivariate Exploration\n",
    "-visualizations(comparative)\n",
    "-statistical testing\n",
    "-clues for feature engineering\n"
   ]
  },
  {
   "cell_type": "markdown",
   "id": "b0676aa7",
   "metadata": {},
   "source": [
    "Objective at the end of this phase:\n",
    "-we will have a train, validate, and test set as we did before\n",
    "-we may or may not have the desire to add in new features engineering of transfromatife processes to\n",
    "our original taining set (which would require a new edit to the proprocessing phase of our prepare script)\n",
    "\n",
    "-we will have concrete observations that we have made based on strictly the training set within our exploratory data analysis\n"
   ]
  },
  {
   "cell_type": "code",
   "execution_count": 1,
   "id": "3441289e",
   "metadata": {},
   "outputs": [],
   "source": [
    "#pandas methods for taking in data:\n",
    "#pd.___?\n",
    "import numpy as np\n",
    "import seaborn as sns\n",
    "import scipy.stats as stats\n",
    "import pandas as pd\n",
    "import matplotlib.pyplot as plt\n",
    "from pydataset import data\n",
    "import os\n",
    "import acquire\n",
    "from env import host,db,protocol,password,user,mysqlcon\n",
    "from sklearn.model_selection import train_test_split\n",
    "from sklearn.impute import SimpleImputer"
   ]
  },
  {
   "cell_type": "code",
   "execution_count": 16,
   "id": "315931d9",
   "metadata": {},
   "outputs": [],
   "source": [
    "def split_titanic_data(df_titanic):\n",
    "    '''\n",
    "     split titanic data will split data based on \n",
    "    the values present in a cleaned version of titanic\n",
    "    that is from clean_titanic\n",
    "    '''\n",
    "    \n",
    "    train_val, test = train_test_split(df_titanic, train_size=0.8, random_state=1349, stratify=df_titanic['survived'])\n",
    "    \n",
    "    train, validate = train_test_split(train_val, train_size=0.7, random_state=1349, stratify=train_val['survived'])\n",
    "    \n",
    "    return train, validate, test"
   ]
  },
  {
   "cell_type": "code",
   "execution_count": 21,
   "id": "62e73a3f",
   "metadata": {},
   "outputs": [],
   "source": [
    "df = acquire.get_titanic_data()"
   ]
  },
  {
   "cell_type": "code",
   "execution_count": 22,
   "id": "2f3d511f",
   "metadata": {},
   "outputs": [
    {
     "data": {
      "text/html": [
       "<div>\n",
       "<style scoped>\n",
       "    .dataframe tbody tr th:only-of-type {\n",
       "        vertical-align: middle;\n",
       "    }\n",
       "\n",
       "    .dataframe tbody tr th {\n",
       "        vertical-align: top;\n",
       "    }\n",
       "\n",
       "    .dataframe thead th {\n",
       "        text-align: right;\n",
       "    }\n",
       "</style>\n",
       "<table border=\"1\" class=\"dataframe\">\n",
       "  <thead>\n",
       "    <tr style=\"text-align: right;\">\n",
       "      <th></th>\n",
       "      <th>Unnamed: 0</th>\n",
       "      <th>passenger_id</th>\n",
       "      <th>survived</th>\n",
       "      <th>pclass</th>\n",
       "      <th>sex</th>\n",
       "      <th>age</th>\n",
       "      <th>sibsp</th>\n",
       "      <th>parch</th>\n",
       "      <th>fare</th>\n",
       "      <th>embarked</th>\n",
       "      <th>class</th>\n",
       "      <th>deck</th>\n",
       "      <th>embark_town</th>\n",
       "      <th>alone</th>\n",
       "    </tr>\n",
       "  </thead>\n",
       "  <tbody>\n",
       "    <tr>\n",
       "      <th>0</th>\n",
       "      <td>0</td>\n",
       "      <td>0</td>\n",
       "      <td>0</td>\n",
       "      <td>3</td>\n",
       "      <td>male</td>\n",
       "      <td>22.0</td>\n",
       "      <td>1</td>\n",
       "      <td>0</td>\n",
       "      <td>7.2500</td>\n",
       "      <td>S</td>\n",
       "      <td>Third</td>\n",
       "      <td>NaN</td>\n",
       "      <td>Southampton</td>\n",
       "      <td>0</td>\n",
       "    </tr>\n",
       "    <tr>\n",
       "      <th>1</th>\n",
       "      <td>1</td>\n",
       "      <td>1</td>\n",
       "      <td>1</td>\n",
       "      <td>1</td>\n",
       "      <td>female</td>\n",
       "      <td>38.0</td>\n",
       "      <td>1</td>\n",
       "      <td>0</td>\n",
       "      <td>71.2833</td>\n",
       "      <td>C</td>\n",
       "      <td>First</td>\n",
       "      <td>C</td>\n",
       "      <td>Cherbourg</td>\n",
       "      <td>0</td>\n",
       "    </tr>\n",
       "    <tr>\n",
       "      <th>2</th>\n",
       "      <td>2</td>\n",
       "      <td>2</td>\n",
       "      <td>1</td>\n",
       "      <td>3</td>\n",
       "      <td>female</td>\n",
       "      <td>26.0</td>\n",
       "      <td>0</td>\n",
       "      <td>0</td>\n",
       "      <td>7.9250</td>\n",
       "      <td>S</td>\n",
       "      <td>Third</td>\n",
       "      <td>NaN</td>\n",
       "      <td>Southampton</td>\n",
       "      <td>1</td>\n",
       "    </tr>\n",
       "    <tr>\n",
       "      <th>3</th>\n",
       "      <td>3</td>\n",
       "      <td>3</td>\n",
       "      <td>1</td>\n",
       "      <td>1</td>\n",
       "      <td>female</td>\n",
       "      <td>35.0</td>\n",
       "      <td>1</td>\n",
       "      <td>0</td>\n",
       "      <td>53.1000</td>\n",
       "      <td>S</td>\n",
       "      <td>First</td>\n",
       "      <td>C</td>\n",
       "      <td>Southampton</td>\n",
       "      <td>0</td>\n",
       "    </tr>\n",
       "    <tr>\n",
       "      <th>4</th>\n",
       "      <td>4</td>\n",
       "      <td>4</td>\n",
       "      <td>0</td>\n",
       "      <td>3</td>\n",
       "      <td>male</td>\n",
       "      <td>35.0</td>\n",
       "      <td>0</td>\n",
       "      <td>0</td>\n",
       "      <td>8.0500</td>\n",
       "      <td>S</td>\n",
       "      <td>Third</td>\n",
       "      <td>NaN</td>\n",
       "      <td>Southampton</td>\n",
       "      <td>1</td>\n",
       "    </tr>\n",
       "    <tr>\n",
       "      <th>...</th>\n",
       "      <td>...</td>\n",
       "      <td>...</td>\n",
       "      <td>...</td>\n",
       "      <td>...</td>\n",
       "      <td>...</td>\n",
       "      <td>...</td>\n",
       "      <td>...</td>\n",
       "      <td>...</td>\n",
       "      <td>...</td>\n",
       "      <td>...</td>\n",
       "      <td>...</td>\n",
       "      <td>...</td>\n",
       "      <td>...</td>\n",
       "      <td>...</td>\n",
       "    </tr>\n",
       "    <tr>\n",
       "      <th>886</th>\n",
       "      <td>886</td>\n",
       "      <td>886</td>\n",
       "      <td>0</td>\n",
       "      <td>2</td>\n",
       "      <td>male</td>\n",
       "      <td>27.0</td>\n",
       "      <td>0</td>\n",
       "      <td>0</td>\n",
       "      <td>13.0000</td>\n",
       "      <td>S</td>\n",
       "      <td>Second</td>\n",
       "      <td>NaN</td>\n",
       "      <td>Southampton</td>\n",
       "      <td>1</td>\n",
       "    </tr>\n",
       "    <tr>\n",
       "      <th>887</th>\n",
       "      <td>887</td>\n",
       "      <td>887</td>\n",
       "      <td>1</td>\n",
       "      <td>1</td>\n",
       "      <td>female</td>\n",
       "      <td>19.0</td>\n",
       "      <td>0</td>\n",
       "      <td>0</td>\n",
       "      <td>30.0000</td>\n",
       "      <td>S</td>\n",
       "      <td>First</td>\n",
       "      <td>B</td>\n",
       "      <td>Southampton</td>\n",
       "      <td>1</td>\n",
       "    </tr>\n",
       "    <tr>\n",
       "      <th>888</th>\n",
       "      <td>888</td>\n",
       "      <td>888</td>\n",
       "      <td>0</td>\n",
       "      <td>3</td>\n",
       "      <td>female</td>\n",
       "      <td>NaN</td>\n",
       "      <td>1</td>\n",
       "      <td>2</td>\n",
       "      <td>23.4500</td>\n",
       "      <td>S</td>\n",
       "      <td>Third</td>\n",
       "      <td>NaN</td>\n",
       "      <td>Southampton</td>\n",
       "      <td>0</td>\n",
       "    </tr>\n",
       "    <tr>\n",
       "      <th>889</th>\n",
       "      <td>889</td>\n",
       "      <td>889</td>\n",
       "      <td>1</td>\n",
       "      <td>1</td>\n",
       "      <td>male</td>\n",
       "      <td>26.0</td>\n",
       "      <td>0</td>\n",
       "      <td>0</td>\n",
       "      <td>30.0000</td>\n",
       "      <td>C</td>\n",
       "      <td>First</td>\n",
       "      <td>C</td>\n",
       "      <td>Cherbourg</td>\n",
       "      <td>1</td>\n",
       "    </tr>\n",
       "    <tr>\n",
       "      <th>890</th>\n",
       "      <td>890</td>\n",
       "      <td>890</td>\n",
       "      <td>0</td>\n",
       "      <td>3</td>\n",
       "      <td>male</td>\n",
       "      <td>32.0</td>\n",
       "      <td>0</td>\n",
       "      <td>0</td>\n",
       "      <td>7.7500</td>\n",
       "      <td>Q</td>\n",
       "      <td>Third</td>\n",
       "      <td>NaN</td>\n",
       "      <td>Queenstown</td>\n",
       "      <td>1</td>\n",
       "    </tr>\n",
       "  </tbody>\n",
       "</table>\n",
       "<p>891 rows × 14 columns</p>\n",
       "</div>"
      ],
      "text/plain": [
       "     Unnamed: 0  passenger_id  survived  pclass     sex   age  sibsp  parch  \\\n",
       "0             0             0         0       3    male  22.0      1      0   \n",
       "1             1             1         1       1  female  38.0      1      0   \n",
       "2             2             2         1       3  female  26.0      0      0   \n",
       "3             3             3         1       1  female  35.0      1      0   \n",
       "4             4             4         0       3    male  35.0      0      0   \n",
       "..          ...           ...       ...     ...     ...   ...    ...    ...   \n",
       "886         886           886         0       2    male  27.0      0      0   \n",
       "887         887           887         1       1  female  19.0      0      0   \n",
       "888         888           888         0       3  female   NaN      1      2   \n",
       "889         889           889         1       1    male  26.0      0      0   \n",
       "890         890           890         0       3    male  32.0      0      0   \n",
       "\n",
       "        fare embarked   class deck  embark_town  alone  \n",
       "0     7.2500        S   Third  NaN  Southampton      0  \n",
       "1    71.2833        C   First    C    Cherbourg      0  \n",
       "2     7.9250        S   Third  NaN  Southampton      1  \n",
       "3    53.1000        S   First    C  Southampton      0  \n",
       "4     8.0500        S   Third  NaN  Southampton      1  \n",
       "..       ...      ...     ...  ...          ...    ...  \n",
       "886  13.0000        S  Second  NaN  Southampton      1  \n",
       "887  30.0000        S   First    B  Southampton      1  \n",
       "888  23.4500        S   Third  NaN  Southampton      0  \n",
       "889  30.0000        C   First    C    Cherbourg      1  \n",
       "890   7.7500        Q   Third  NaN   Queenstown      1  \n",
       "\n",
       "[891 rows x 14 columns]"
      ]
     },
     "execution_count": 22,
     "metadata": {},
     "output_type": "execute_result"
    }
   ],
   "source": [
    "df"
   ]
  },
  {
   "cell_type": "code",
   "execution_count": 23,
   "id": "67eca183",
   "metadata": {},
   "outputs": [
    {
     "data": {
      "text/plain": [
       "Unnamed: 0        0\n",
       "passenger_id      0\n",
       "survived          0\n",
       "pclass            0\n",
       "sex               0\n",
       "age             177\n",
       "sibsp             0\n",
       "parch             0\n",
       "fare              0\n",
       "embarked          2\n",
       "class             0\n",
       "deck            688\n",
       "embark_town       2\n",
       "alone             0\n",
       "dtype: int64"
      ]
     },
     "execution_count": 23,
     "metadata": {},
     "output_type": "execute_result"
    }
   ],
   "source": [
    "df.isna().sum()\n"
   ]
  },
  {
   "cell_type": "code",
   "execution_count": 24,
   "id": "25793d99",
   "metadata": {},
   "outputs": [
    {
     "data": {
      "text/plain": [
       "Unnamed: 0      0.000000\n",
       "passenger_id    0.000000\n",
       "survived        0.000000\n",
       "pclass          0.000000\n",
       "sex             0.000000\n",
       "age             0.198653\n",
       "sibsp           0.000000\n",
       "parch           0.000000\n",
       "fare            0.000000\n",
       "embarked        0.002245\n",
       "class           0.000000\n",
       "deck            0.772166\n",
       "embark_town     0.002245\n",
       "alone           0.000000\n",
       "dtype: float64"
      ]
     },
     "execution_count": 24,
     "metadata": {},
     "output_type": "execute_result"
    }
   ],
   "source": [
    "# Useful helper for checking for nulls\n",
    "# What proportion of each column is empty?\n",
    "df.isna().mean()\n"
   ]
  },
  {
   "cell_type": "markdown",
   "id": "8876e8cd",
   "metadata": {},
   "source": [
    "Interactions of 2 Variables\n",
    "\n",
    "For bivariate exploration, we should analyze each feature with respect to the target variable and document takewaways."
   ]
  },
  {
   "cell_type": "code",
   "execution_count": null,
   "id": "268492df",
   "metadata": {},
   "outputs": [],
   "source": []
  },
  {
   "cell_type": "markdown",
   "id": "299a81eb",
   "metadata": {},
   "source": [
    "Prepare\n",
    "\n",
    "Prepare the Titanic data. We apply the same steps before splitting so that we handle edge cases identically.\n",
    "\n",
    "drop deck since most of the data is missing\n",
    "drop rows where age or embarked is missing\n",
    "drop passenger_id, since it adds no new information\n",
    "drop class, as encoded values are in pclass\n",
    "create dummy vars & drop sex, embark_town"
   ]
  },
  {
   "cell_type": "code",
   "execution_count": 25,
   "id": "c95496ce",
   "metadata": {},
   "outputs": [],
   "source": [
    "# drop rows where age or embarked is null, drop column 'deck', drop passenger_id\n",
    "def prep_titanic(df):\n",
    "    '''\n",
    "    take in titanc dataframe, remove all rows where age or embarked is null, \n",
    "    get dummy variables for sex and embark_town, \n",
    "    and drop sex, deck, passenger_id, class, and embark_town. \n",
    "    '''\n",
    "\n",
    "    df = df[(df.age.notna()) & (df.embarked.notna())]\n",
    "    df = df.drop(columns=['deck', 'passenger_id', 'class'])\n",
    "\n",
    "    dummy_df = pd.get_dummies(df[['sex', 'embark_town']], prefix=['sex', 'embark'])\n",
    "\n",
    "    df = pd.concat([df, dummy_df.drop(columns=['sex_male'])], axis=1)\n",
    "\n",
    "    df = df.drop(columns=['sex', 'embark_town']) \n",
    "\n",
    "    df = df.rename(columns={\"sex_female\": \"is_female\"})\n",
    "\n",
    "    return df\n"
   ]
  },
  {
   "cell_type": "code",
   "execution_count": 28,
   "id": "9f21bf48",
   "metadata": {},
   "outputs": [
    {
     "data": {
      "text/html": [
       "<div>\n",
       "<style scoped>\n",
       "    .dataframe tbody tr th:only-of-type {\n",
       "        vertical-align: middle;\n",
       "    }\n",
       "\n",
       "    .dataframe tbody tr th {\n",
       "        vertical-align: top;\n",
       "    }\n",
       "\n",
       "    .dataframe thead th {\n",
       "        text-align: right;\n",
       "    }\n",
       "</style>\n",
       "<table border=\"1\" class=\"dataframe\">\n",
       "  <thead>\n",
       "    <tr style=\"text-align: right;\">\n",
       "      <th></th>\n",
       "      <th>Unnamed: 0</th>\n",
       "      <th>survived</th>\n",
       "      <th>pclass</th>\n",
       "      <th>age</th>\n",
       "      <th>sibsp</th>\n",
       "      <th>parch</th>\n",
       "      <th>fare</th>\n",
       "      <th>embarked</th>\n",
       "      <th>alone</th>\n",
       "      <th>is_female</th>\n",
       "      <th>embark_Cherbourg</th>\n",
       "      <th>embark_Queenstown</th>\n",
       "      <th>embark_Southampton</th>\n",
       "    </tr>\n",
       "  </thead>\n",
       "  <tbody>\n",
       "    <tr>\n",
       "      <th>0</th>\n",
       "      <td>0</td>\n",
       "      <td>0</td>\n",
       "      <td>3</td>\n",
       "      <td>22.0</td>\n",
       "      <td>1</td>\n",
       "      <td>0</td>\n",
       "      <td>7.2500</td>\n",
       "      <td>S</td>\n",
       "      <td>0</td>\n",
       "      <td>0</td>\n",
       "      <td>0</td>\n",
       "      <td>0</td>\n",
       "      <td>1</td>\n",
       "    </tr>\n",
       "    <tr>\n",
       "      <th>1</th>\n",
       "      <td>1</td>\n",
       "      <td>1</td>\n",
       "      <td>1</td>\n",
       "      <td>38.0</td>\n",
       "      <td>1</td>\n",
       "      <td>0</td>\n",
       "      <td>71.2833</td>\n",
       "      <td>C</td>\n",
       "      <td>0</td>\n",
       "      <td>1</td>\n",
       "      <td>1</td>\n",
       "      <td>0</td>\n",
       "      <td>0</td>\n",
       "    </tr>\n",
       "  </tbody>\n",
       "</table>\n",
       "</div>"
      ],
      "text/plain": [
       "   Unnamed: 0  survived  pclass   age  sibsp  parch     fare embarked  alone  \\\n",
       "0           0         0       3  22.0      1      0   7.2500        S      0   \n",
       "1           1         1       1  38.0      1      0  71.2833        C      0   \n",
       "\n",
       "   is_female  embark_Cherbourg  embark_Queenstown  embark_Southampton  \n",
       "0          0                 0                  0                   1  \n",
       "1          1                 1                  0                   0  "
      ]
     },
     "execution_count": 28,
     "metadata": {},
     "output_type": "execute_result"
    }
   ],
   "source": [
    "df = prep_titanic(df)\n",
    "df.head(2)\n"
   ]
  },
  {
   "cell_type": "markdown",
   "id": "3e78a177",
   "metadata": {},
   "source": [
    "Split data into Train, Validate, Test"
   ]
  },
  {
   "cell_type": "code",
   "execution_count": 29,
   "id": "2715c658",
   "metadata": {},
   "outputs": [],
   "source": [
    "def train_validate_test_split(df, target, seed=123):\n",
    "    '''\n",
    "    This function takes in a dataframe, the name of the target variable\n",
    "    (for stratification purposes), and an integer for a setting a seed\n",
    "    and splits the data into train, validate and test. \n",
    "    Test is 20% of the original dataset, validate is .30*.80= 24% of the \n",
    "    original dataset, and train is .70*.80= 56% of the original dataset. \n",
    "    The function returns, in this order, train, validate and test dataframes. \n",
    "    '''\n",
    "    train_validate, test = train_test_split(df, test_size=0.2, \n",
    "                                            random_state=seed, \n",
    "                                            stratify=df[target])\n",
    "    train, validate = train_test_split(train_validate, test_size=0.3, \n",
    "                                       random_state=seed,\n",
    "                                       stratify=train_validate[target])\n",
    "    return train, validate, test\n"
   ]
  },
  {
   "cell_type": "code",
   "execution_count": 30,
   "id": "09a75599",
   "metadata": {},
   "outputs": [
    {
     "data": {
      "text/plain": [
       "((398, 13), (171, 13), (143, 13))"
      ]
     },
     "execution_count": 30,
     "metadata": {},
     "output_type": "execute_result"
    }
   ],
   "source": [
    "# Stratify with categorical target variables\n",
    "train, validate, test = train_validate_test_split(df, target='survived')\n",
    "train.shape, validate.shape, test.shape\n"
   ]
  },
  {
   "cell_type": "code",
   "execution_count": 31,
   "id": "aca1e170",
   "metadata": {},
   "outputs": [
    {
     "data": {
      "text/plain": [
       "(0.4045226130653266, 0.40350877192982454, 0.40559440559440557)"
      ]
     },
     "execution_count": 31,
     "metadata": {},
     "output_type": "execute_result"
    }
   ],
   "source": [
    "# Stratification means we'll get even proportions of the target variable in each data set\n",
    "train.survived.mean(), validate.survived.mean(), test.survived.mean()\n"
   ]
  },
  {
   "cell_type": "code",
   "execution_count": 32,
   "id": "b44ec012",
   "metadata": {},
   "outputs": [
    {
     "data": {
      "text/html": [
       "<div>\n",
       "<style scoped>\n",
       "    .dataframe tbody tr th:only-of-type {\n",
       "        vertical-align: middle;\n",
       "    }\n",
       "\n",
       "    .dataframe tbody tr th {\n",
       "        vertical-align: top;\n",
       "    }\n",
       "\n",
       "    .dataframe thead th {\n",
       "        text-align: right;\n",
       "    }\n",
       "</style>\n",
       "<table border=\"1\" class=\"dataframe\">\n",
       "  <thead>\n",
       "    <tr style=\"text-align: right;\">\n",
       "      <th></th>\n",
       "      <th>Unnamed: 0</th>\n",
       "      <th>survived</th>\n",
       "      <th>pclass</th>\n",
       "      <th>age</th>\n",
       "      <th>sibsp</th>\n",
       "      <th>parch</th>\n",
       "      <th>fare</th>\n",
       "      <th>embarked</th>\n",
       "      <th>alone</th>\n",
       "      <th>is_female</th>\n",
       "      <th>embark_Cherbourg</th>\n",
       "      <th>embark_Queenstown</th>\n",
       "      <th>embark_Southampton</th>\n",
       "    </tr>\n",
       "  </thead>\n",
       "  <tbody>\n",
       "    <tr>\n",
       "      <th>450</th>\n",
       "      <td>450</td>\n",
       "      <td>0</td>\n",
       "      <td>2</td>\n",
       "      <td>36.0</td>\n",
       "      <td>1</td>\n",
       "      <td>2</td>\n",
       "      <td>27.75</td>\n",
       "      <td>S</td>\n",
       "      <td>0</td>\n",
       "      <td>0</td>\n",
       "      <td>0</td>\n",
       "      <td>0</td>\n",
       "      <td>1</td>\n",
       "    </tr>\n",
       "    <tr>\n",
       "      <th>543</th>\n",
       "      <td>543</td>\n",
       "      <td>1</td>\n",
       "      <td>2</td>\n",
       "      <td>32.0</td>\n",
       "      <td>1</td>\n",
       "      <td>0</td>\n",
       "      <td>26.00</td>\n",
       "      <td>S</td>\n",
       "      <td>0</td>\n",
       "      <td>0</td>\n",
       "      <td>0</td>\n",
       "      <td>0</td>\n",
       "      <td>1</td>\n",
       "    </tr>\n",
       "  </tbody>\n",
       "</table>\n",
       "</div>"
      ],
      "text/plain": [
       "     Unnamed: 0  survived  pclass   age  sibsp  parch   fare embarked  alone  \\\n",
       "450         450         0       2  36.0      1      2  27.75        S      0   \n",
       "543         543         1       2  32.0      1      0  26.00        S      0   \n",
       "\n",
       "     is_female  embark_Cherbourg  embark_Queenstown  embark_Southampton  \n",
       "450          0                 0                  0                   1  \n",
       "543          0                 0                  0                   1  "
      ]
     },
     "execution_count": 32,
     "metadata": {},
     "output_type": "execute_result"
    }
   ],
   "source": [
    "train.head(2)\n"
   ]
  },
  {
   "cell_type": "markdown",
   "id": "17bda7de",
   "metadata": {},
   "source": [
    "Questions to answer\n",
    "\n",
    "pclass to survived. What's the relationship between survival and class of ticket?\n",
    "\n",
    "alone to survived. Is traveling with people more helpful for surviving?\n",
    "\n",
    "gender to survived. What's the relationship between survival and gender?\n",
    "\n",
    "fare to survived. What's the relationship between fare and survival?\n",
    "\n",
    "What further combinations of features could you analyze? What about binning age into young, middle, and older? Are there any features that would make sense to create?"
   ]
  },
  {
   "cell_type": "markdown",
   "id": "65ce9dff",
   "metadata": {},
   "source": [
    "1.What's the relationship between survival and class of ticket?"
   ]
  },
  {
   "cell_type": "code",
   "execution_count": 33,
   "id": "26ffce04",
   "metadata": {},
   "outputs": [
    {
     "data": {
      "image/png": "[encoded data removed]",
      "text/plain": [
       "<Figure size 640x480 with 1 Axes>"
      ]
     },
     "metadata": {},
     "output_type": "display_data"
    }
   ],
   "source": [
    "plt.title(\"It pays to travel first and second class\")\n",
    "sns.barplot(x=\"pclass\", y=\"survived\", data=train)\n",
    "population_survival_rate = train.survived.mean()\n",
    "plt.axhline(population_survival_rate, label=\"Population survival rate\")\n",
    "plt.legend()\n",
    "plt.show()\n"
   ]
  },
  {
   "cell_type": "markdown",
   "id": "9bcec4ef",
   "metadata": {},
   "source": [
    "The above visual is quite clear, but if it was less clear or we want more certainty, we'll run a hypothesis test."
   ]
  },
  {
   "cell_type": "code",
   "execution_count": 34,
   "id": "e2591db8",
   "metadata": {},
   "outputs": [
    {
     "name": "stdout",
     "output_type": "stream",
     "text": [
      "Reject the null hypothesis that survival and class of ticket are independent\n",
      "Sufficient evidence to move forward understanding that there is a relationship between class of ticket and survival\n"
     ]
    },
    {
     "data": {
      "text/plain": [
       "6.956716773744683e-15"
      ]
     },
     "execution_count": 34,
     "metadata": {},
     "output_type": "execute_result"
    }
   ],
   "source": [
    "# Let's run a chi squared to compare proportions, to have more confidence\n",
    "alpha = 0.05\n",
    "null_hypothesis = \"survival and class of ticket are independent\"\n",
    "alternative_hypothesis = \"there is a relationship between class of ticket and survival\"\n",
    "\n",
    "# Setup a crosstab of observed survival to pclass\n",
    "observed = pd.crosstab(train.survived, train.pclass)\n",
    "\n",
    "chi2, p, degf, expected = stats.chi2_contingency(observed)\n",
    "\n",
    "if p < alpha:\n",
    "    print(\"Reject the null hypothesis that\", null_hypothesis)\n",
    "    print(\"Sufficient evidence to move forward understanding that\", alternative_hypothesis)\n",
    "else:\n",
    "    print(\"Fail to reject the null\")\n",
    "    print(\"Insufficient evidence to reject the null\")\n",
    "p\n"
   ]
  },
  {
   "cell_type": "markdown",
   "id": "5c8f4af5",
   "metadata": {},
   "source": [
    "2.Is traveling with people more helpful for surviving?"
   ]
  },
  {
   "cell_type": "code",
   "execution_count": 35,
   "id": "e97377ec",
   "metadata": {},
   "outputs": [
    {
     "data": {
      "image/png": "[encoded data removed]",
      "text/plain": [
       "<Figure size 640x480 with 1 Axes>"
      ]
     },
     "metadata": {},
     "output_type": "display_data"
    }
   ],
   "source": [
    "plt.title(\"Better not travel alone.\")\n",
    "sns.barplot(x=\"alone\", y=\"survived\", data=train)\n",
    "population_survival_rate = train.survived.mean()\n",
    "plt.axhline(population_survival_rate, label=\"Population survival rate\")\n",
    "plt.legend()\n",
    "plt.show()\n"
   ]
  },
  {
   "cell_type": "code",
   "execution_count": null,
   "id": "6d94f4ea",
   "metadata": {},
   "outputs": [],
   "source": []
  },
  {
   "cell_type": "code",
   "execution_count": 37,
   "id": "293b39da",
   "metadata": {},
   "outputs": [
    {
     "name": "stdout",
     "output_type": "stream",
     "text": [
      "Reject the null hypothesis that survival and traveling alone are independent\n",
      "Sufficient evidence to move forward understanding that there is a relationship between survival and traveling alone\n"
     ]
    },
    {
     "data": {
      "text/plain": [
       "9.284709086677199e-06"
      ]
     },
     "execution_count": 37,
     "metadata": {},
     "output_type": "execute_result"
    }
   ],
   "source": [
    "# If the visual was unclear or we need more confirmation, run a hypothesis test\n",
    "# Let's run a chi squared to compare proportions\n",
    "alpha = 0.05\n",
    "null_hypothesis = \"survival and traveling alone are independent\"\n",
    "alternative_hypothesis = \"there is a relationship between survival and traveling alone\"\n",
    "\n",
    "# Setup a crosstab of observed survival to pclass\n",
    "observed = pd.crosstab(train.survived, train.alone)\n",
    "\n",
    "chi2, p, degf, expected = stats.chi2_contingency(observed)\n",
    "\n",
    "if p < alpha:\n",
    "    print(\"Reject the null hypothesis that\", null_hypothesis)\n",
    "    print(\"Sufficient evidence to move forward understanding that\", alternative_hypothesis)\n",
    "else:\n",
    "    print(\"Fail to reject the null\")\n",
    "    print(\"Insufficient evidence to reject the null\")\n",
    "p"
   ]
  },
  {
   "cell_type": "markdown",
   "id": "23cee5c1",
   "metadata": {},
   "source": [
    "3.What's the relationship between survival and gender?"
   ]
  },
  {
   "cell_type": "code",
   "execution_count": 38,
   "id": "bb8c5df0",
   "metadata": {},
   "outputs": [
    {
     "data": {
      "image/png": "[encoded data removed]",
      "text/plain": [
       "<Figure size 640x480 with 1 Axes>"
      ]
     },
     "metadata": {},
     "output_type": "display_data"
    }
   ],
   "source": [
    "plt.title(\"Women more likely to survive\")\n",
    "sns.barplot(x=\"is_female\", y=\"survived\", data=train)\n",
    "population_survival_rate = train.survived.mean()\n",
    "plt.axhline(population_survival_rate, label=\"Population survival rate\")\n",
    "plt.legend()\n",
    "plt.show()\n"
   ]
  },
  {
   "cell_type": "code",
   "execution_count": 40,
   "id": "67ae3226",
   "metadata": {},
   "outputs": [
    {
     "name": "stdout",
     "output_type": "stream",
     "text": [
      "Reject the null hypothesis that survival and gender are independent\n",
      "Sufficient evidence to move forward understanding that there is a relationship between survival and gender\n"
     ]
    },
    {
     "data": {
      "text/plain": [
       "3.077878621816156e-27"
      ]
     },
     "execution_count": 40,
     "metadata": {},
     "output_type": "execute_result"
    }
   ],
   "source": [
    "# Let's run a chi squared to compare proportions, to have more confidence\n",
    "alpha = 0.05\n",
    "\n",
    "null_hypothesis = \"survival and gender are independent\"\n",
    "alternative_hypothesis = \"there is a relationship between survival and gender\"\n",
    "\n",
    "# Setup a crosstab of observed survival to pclass\n",
    "observed = pd.crosstab(train.survived, train.is_female)\n",
    "\n",
    "chi2, p, degf, expected = stats.chi2_contingency(observed)\n",
    "\n",
    "if p < alpha:\n",
    "    print(\"Reject the null hypothesis that\", null_hypothesis)\n",
    "    print(\"Sufficient evidence to move forward understanding that\", alternative_hypothesis)\n",
    "else:\n",
    "    print(\"Fail to reject the null\")\n",
    "    print(\"Insufficient evidence to reject the null\")\n",
    "p"
   ]
  },
  {
   "cell_type": "code",
   "execution_count": null,
   "id": "c75d89a9",
   "metadata": {},
   "outputs": [],
   "source": []
  },
  {
   "cell_type": "markdown",
   "id": "f40f9c70",
   "metadata": {},
   "source": []
  },
  {
   "cell_type": "markdown",
   "id": "70ca2ad9",
   "metadata": {},
   "source": [
    "4.What's the relationship between fare and survival?\n",
    "\n",
    "Comparing Numeric vs. a Categorical Example\n",
    "\n",
    "If the visual is not completely clear, the need for a hypothesis test increases.\n",
    "\n",
    "First, set your confidence level and your alpha (Confidence level of 95% and alpha of 0.05 are good)\n",
    "Select the appropriate test for your 2 variables:\n",
    "If numeric to numeric, run a correlation test\n",
    "Compare proportions with \n",
    "χ2\n",
    "Compare means with t-test or Mann-Whitney u-test.\n",
    "Run tests, form conclusions, and document your results\n",
    "(rinse and then repeat with other variables of interest)\n",
    "\n",
    "1 tailed Mann-Whitney test. For more on Mann-Whitney, see the Wikipedia article\n",
    "\n",
    "Write down your hypothesis setup\n",
    "\n",
    "H0: Survived passenger fares cost less than or equal to non-surviving passenger fare\n",
    "\n",
    "Ha: Surviving passenger fares cost more than non-surviving passenger fares"
   ]
  },
  {
   "cell_type": "code",
   "execution_count": 41,
   "id": "c393df9c",
   "metadata": {},
   "outputs": [],
   "source": [
    "# Subset the data into survived and not-surviving status\n",
    "not_survived = train[train.survived == 0]\n",
    "survived = train[train.survived == 1]\n"
   ]
  },
  {
   "cell_type": "code",
   "execution_count": 42,
   "id": "5d9b07b9",
   "metadata": {},
   "outputs": [
    {
     "data": {
      "text/plain": [
       "(846.4473286218973, 7299.474755819128)"
      ]
     },
     "execution_count": 42,
     "metadata": {},
     "output_type": "execute_result"
    }
   ],
   "source": [
    "# check variances of the two groups\n",
    "not_survived.fare.var(), survived.fare.var()\n"
   ]
  },
  {
   "cell_type": "code",
   "execution_count": 43,
   "id": "d10aebcb",
   "metadata": {},
   "outputs": [
    {
     "data": {
      "image/png": "[encoded data removed]",
      "text/plain": [
       "<Figure size 640x480 with 1 Axes>"
      ]
     },
     "metadata": {},
     "output_type": "display_data"
    }
   ],
   "source": [
    "plt.title(\"What's the relationship of fare and survival?\")\n",
    "plt.hist(survived.fare, label=\"survived\")\n",
    "plt.hist(not_survived.fare, label=\"perished\")\n",
    "plt.legend()\n",
    "plt.show()\n"
   ]
  },
  {
   "cell_type": "code",
   "execution_count": 44,
   "id": "28a30990",
   "metadata": {},
   "outputs": [],
   "source": [
    "from scipy import stats\n",
    "\n",
    "null_hypothesis = \"fares paid by survived passengers are less than or equal to fares paid by non-surviving passengers\"\n",
    "alternative_hypothesis = \"fares paid by surviving passengers are higher than non-surviving passengers\"\n",
    "\n",
    "# Use Mann Whitney u-test when t-test assumptions do not hold.\n",
    "# The distributions are not normal and the variances are not equal, so we'll do mann-whitney\n",
    "t, p = stats.mannwhitneyu(survived.fare, not_survived.fare, alternative=\"greater\")\n"
   ]
  },
  {
   "cell_type": "code",
   "execution_count": 45,
   "id": "ca76c598",
   "metadata": {},
   "outputs": [
    {
     "name": "stdout",
     "output_type": "stream",
     "text": [
      "We find evidence to reject the null hypothesis that fares paid by survived passengers are less than or equal to fares paid by non-surviving passengers\n",
      "We find evidence evidence to move forward with the understaind that fares paid by surviving passengers are higher than non-surviving passengers\n"
     ]
    }
   ],
   "source": [
    "if p < alpha:\n",
    "    print(\"We find evidence to reject the null hypothesis that\", null_hypothesis)\n",
    "    print(\"We find evidence evidence to move forward with the understaind that\", alternative_hypothesis)\n",
    "else:\n",
    "    print(\"We fail to reject the null hypothesis\")\n",
    "    print(\"There is no evidence that\", null_hypothesis)\n"
   ]
  },
  {
   "cell_type": "code",
   "execution_count": 46,
   "id": "160b8fb4",
   "metadata": {},
   "outputs": [
    {
     "data": {
      "text/plain": [
       "4.665118844596931e-14"
      ]
     },
     "execution_count": 46,
     "metadata": {},
     "output_type": "execute_result"
    }
   ],
   "source": [
    "p"
   ]
  },
  {
   "cell_type": "markdown",
   "id": "3054aeba",
   "metadata": {},
   "source": [
    "Takeaways\n",
    "\n",
    "It pays to travel first and second class\n",
    "Better to travel with family/company\"\n",
    "Women much more likely to survive\n",
    "Survivors paid higher fares. This tracks with class of ticket."
   ]
  },
  {
   "cell_type": "code",
   "execution_count": null,
   "id": "ef20af45",
   "metadata": {},
   "outputs": [],
   "source": []
  },
  {
   "cell_type": "markdown",
   "id": "0aefa0f4",
   "metadata": {},
   "source": [
    "Important Questions\n",
    "\n",
    "What else can you determine by looking at sibsp, parch, fare, or age compared to our target survived\n",
    "If the visuals are not crystal clear in indicating a relationship, then we should conduct hypothesis testing with the approviate variables along with the target.\n",
    "For a second draft:\n",
    "Any other variables we can combine together?\n",
    "Would it make sense to create a variable like is_child which would be a boolean?\n",
    "Would it make sense to investigate each independent variable with each-other and not only the target?\n",
    "What else do you notice?\n",
    "And what else can we learn if we look at the interaction of more than two variables at a time?"
   ]
  },
  {
   "cell_type": "code",
   "execution_count": null,
   "id": "2e853112",
   "metadata": {},
   "outputs": [],
   "source": []
  },
  {
   "cell_type": "markdown",
   "id": "8da99563",
   "metadata": {},
   "source": [
    "Interaction of 3+ Variables\n",
    "\n",
    "During multivariate analysis, we often add another dimension to our data, such as the target variable as color."
   ]
  },
  {
   "cell_type": "code",
   "execution_count": 47,
   "id": "6603a068",
   "metadata": {},
   "outputs": [
    {
     "data": {
      "image/png": "[encoded data removed]",
      "text/plain": [
       "<Figure size 640x480 with 1 Axes>"
      ]
     },
     "metadata": {},
     "output_type": "display_data"
    }
   ],
   "source": [
    "# At each class ticket, women have better survival rates\n",
    "plt.title(\"In each class of ticket, survivors trend younger\")\n",
    "sns.boxplot(x=\"pclass\", y=\"age\", data=train, hue=\"survived\")\n",
    "population_survival_rate = train.survived.mean()\n",
    "plt.axhline(population_survival_rate)\n",
    "plt.show()\n"
   ]
  },
  {
   "cell_type": "markdown",
   "id": "349ea21e",
   "metadata": {},
   "source": [
    "Note A scatterplot of 2 numeric columns by one or two categorical columns might be very useful for numeric targets on your y axis"
   ]
  },
  {
   "cell_type": "code",
   "execution_count": 48,
   "id": "fafc61bb",
   "metadata": {},
   "outputs": [
    {
     "data": {
      "image/png": "[encoded data removed]",
      "text/plain": [
       "<Figure size 1570.49x500 with 3 Axes>"
      ]
     },
     "metadata": {},
     "output_type": "display_data"
    }
   ],
   "source": [
    "# No discernable relationship between age and fare, but the pclass relates to survival\n",
    "rel = sns.relplot(x='age', y='fare', data=train, col=\"pclass\", hue=\"survived\")\n",
    "rel.fig.suptitle('Age to Fare, colum by pclass') # One way to title a relplot\n",
    "plt.tight_layout()\n"
   ]
  },
  {
   "cell_type": "code",
   "execution_count": 50,
   "id": "49bd59d6",
   "metadata": {},
   "outputs": [
    {
     "data": {
      "image/png": "[encoded data removed]",
      "text/plain": [
       "<Figure size 640x480 with 1 Axes>"
      ]
     },
     "metadata": {},
     "output_type": "display_data"
    }
   ],
   "source": [
    "plt.title(\"Women more likely to survive at all ticket classes\")\n",
    "sns.barplot(x=\"pclass\", y=\"survived\", hue=\"is_female\", data=train, ci=False)\n",
    "population_survival_rate = train.survived.mean()\n",
    "plt.show()\n"
   ]
  },
  {
   "cell_type": "code",
   "execution_count": 51,
   "id": "e81a0c3e",
   "metadata": {},
   "outputs": [
    {
     "name": "stdout",
     "output_type": "stream",
     "text": [
      "Overall survival rate: 0.4\n",
      "Overall female survival rate 0.75\n",
      "Overall male survival rate 0.2\n",
      "3rd class ticket survival rate 0.21\n",
      "Survival rate for women in 3rd class: 0.46\n",
      "Survival rate for men in 3rd class: 0.1\n"
     ]
    }
   ],
   "source": [
    "women_in_3rd_class = train[(train.pclass == 3) & (train.is_female == 1)]\n",
    "men_in_3rd_class = train[(train.pclass == 3) & (train.is_female == 0)]\n",
    "\n",
    "print(f\"Overall survival rate:\", round(train.survived.mean(), 2))\n",
    "print(f\"Overall female survival rate\", round(train[train.is_female == 1].survived.mean(), 2))\n",
    "print(f\"Overall male survival rate\", round(train[train.is_female == 0].survived.mean(), 2))\n",
    "print(f\"3rd class ticket survival rate\", round(train[train.pclass == 3].survived.mean(), 2))\n",
    "print(f\"Survival rate for women in 3rd class:\", round(women_in_3rd_class.survived.mean(), 2))\n",
    "print(f\"Survival rate for men in 3rd class:\", round(men_in_3rd_class.survived.mean(), 2))\n"
   ]
  },
  {
   "cell_type": "markdown",
   "id": "aee80b4b",
   "metadata": {},
   "source": [
    "Traveling alone, at any class ticket is riskier"
   ]
  },
  {
   "cell_type": "code",
   "execution_count": 53,
   "id": "193badfb",
   "metadata": {},
   "outputs": [
    {
     "data": {
      "image/png": "[encoded data removed]",
      "text/plain": [
       "<Figure size 558.875x500 with 1 Axes>"
      ]
     },
     "metadata": {},
     "output_type": "display_data"
    }
   ],
   "source": [
    "cat = sns.catplot(data=train, x=\"pclass\", y=\"survived\", hue=\"alone\", kind=\"bar\", ci=False)\n",
    "cat.fig.suptitle(\"Traveling alone, at any class ticket is riskier\")\n",
    "plt.tight_layout()\n"
   ]
  },
  {
   "cell_type": "markdown",
   "id": "0a779ff8",
   "metadata": {},
   "source": [
    "Takeaways 1. Women more likely to survive at all ticket classes 2. In each class of ticket, survivors trend younger 3. First class alone has better survival than 3rd class traveling with family 4. Fare and age don't seem to correlate, but fare and class of ticket appear related. 5. For both men and women passengers, survival and pclass are dependent"
   ]
  },
  {
   "cell_type": "markdown",
   "id": "3006a2a0",
   "metadata": {},
   "source": [
    "What do you learn from these? What are some actions you wish to take?"
   ]
  },
  {
   "cell_type": "code",
   "execution_count": 54,
   "id": "80ef2c39",
   "metadata": {},
   "outputs": [],
   "source": [
    "# Gender subset setup\n",
    "male_subset = train[train.is_female == 0]\n",
    "female_subset = train[train.is_female == 1]\n"
   ]
  },
  {
   "cell_type": "code",
   "execution_count": 55,
   "id": "b9237706",
   "metadata": {},
   "outputs": [
    {
     "name": "stdout",
     "output_type": "stream",
     "text": [
      "We reject the null hypothesis that survival and pclass are independent for female passengers\n",
      "Evidence suggests that survival and pclass are dependent for female passengers\n"
     ]
    }
   ],
   "source": [
    "null_hypothesis = \"survival and pclass are independent for female passengers\"\n",
    "alternative_hypothesis = \"survival and pclass are dependent for female passengers\"\n",
    "\n",
    "alpha = 0.05\n",
    "observed = pd.crosstab(female_subset.survived, female_subset.pclass)\n",
    "chi2, p, degf, expected = stats.chi2_contingency(observed)\n",
    "\n",
    "if p < alpha:\n",
    "    print(\"We reject the null hypothesis that\", null_hypothesis)\n",
    "    print(\"Evidence suggests that\", alternative_hypothesis)\n",
    "else:\n",
    "    print(\"We fail to reject the null hypothesis\")\n",
    "    print(\"We find insufficient evidence to support the claim that\", alternative_hypothesis)\n"
   ]
  },
  {
   "cell_type": "code",
   "execution_count": 56,
   "id": "8603b917",
   "metadata": {},
   "outputs": [
    {
     "name": "stdout",
     "output_type": "stream",
     "text": [
      "We reject the null hypothesis that survival and pclass are independent for male passengers\n",
      "Evidence suggests that survival and pclass are dependent for male passengers\n"
     ]
    }
   ],
   "source": [
    "null_hypothesis = \"survival and pclass are independent for male passengers\"\n",
    "alternative_hypothesis = \"survival and pclass are dependent for male passengers\"\n",
    "\n",
    "alpha = 0.05\n",
    "observed = pd.crosstab(male_subset.survived, male_subset.pclass)\n",
    "chi2, p, degf, expected = stats.chi2_contingency(observed)\n",
    "\n",
    "if p < alpha:\n",
    "    print(\"We reject the null hypothesis that\", null_hypothesis)\n",
    "    print(\"Evidence suggests that\", alternative_hypothesis)\n",
    "else:\n",
    "    print(\"We fail to reject the null hypothesis\")\n",
    "    print(\"We find insufficient evidence to support the claim that\", alternative_hypothesis)\n"
   ]
  },
  {
   "cell_type": "markdown",
   "id": "04390126",
   "metadata": {},
   "source": [
    "Get Creative\n",
    "\n",
    "Ask additional, more specific and targeted questions of the data, such as how subgroups compare to each-other and to the overall population. We then answer these questions using visualizations and/or hypothesis testing.\n",
    "\n",
    "Is there a relationship between survival and parch for women travelers?\n",
    "Is there a relationship between survival and parch for male travelers?\n",
    "Is there a relationship between survival and sibsp for women travelers?\n",
    "Is there a relationship between survival and sibsp for male travelers?\n",
    "What other subgroups can you create and visualize?\n",
    "\n",
    "What variables have you not worked with yet?\n",
    "\n",
    "What other subgroups can you create and test?"
   ]
  },
  {
   "cell_type": "code",
   "execution_count": null,
   "id": "c10da59f",
   "metadata": {},
   "outputs": [],
   "source": []
  },
  {
   "cell_type": "markdown",
   "id": "ff0bb822",
   "metadata": {},
   "source": [
    "Conclusion\n",
    "\n",
    "Here we pull all of our takeaways and actions together into one place we can reference as we move forward.\n",
    "\n",
    "Overall, 60% did NOT survive. This will be my baseline prediction to test the usefulness of features on later when we get to modeling.\n",
    "\n",
    "Younger people appear more likely to survive. A new feature of is_child might be helpful, or maybe binning age into 3 groups of \"young\", \"middle\", and \"older\" would be more helpful than age as a numeric column, alone.\n",
    "\n",
    "Take all of your takeaways and document them in one place.\n",
    "\n",
    "If we have time, maybe on a second iteration, we can dive deep into more variable pairings."
   ]
  },
  {
   "cell_type": "code",
   "execution_count": null,
   "id": "bad3c64a",
   "metadata": {},
   "outputs": [],
   "source": []
  },
  {
   "cell_type": "markdown",
   "id": "abcbb95a",
   "metadata": {},
   "source": [
    "Work fast to an MVP understanding of your data\n",
    "\n",
    "Focus on features that give you the biggest bang for your buck.\n",
    "\n",
    "If there's 30% of a population that's responsible for 99% of the sales, starting with breaking down that 30% population into different groups"
   ]
  },
  {
   "cell_type": "code",
   "execution_count": null,
   "id": "3c2683a5",
   "metadata": {},
   "outputs": [],
   "source": []
  },
  {
   "cell_type": "markdown",
   "id": "2b166a39",
   "metadata": {},
   "source": [
    "When you have time for a second iteration\n",
    "\n",
    "Revisit some of the things you may have skipped earlier in order to get to an MVP.\n",
    "\n",
    "For example, there were ~20% of rows with missing age. If you have time, check these out. Is there a set of the population that is similar such that we can impute an expected age value?\n",
    "\n",
    "Explore creating your own features\n",
    "\n",
    "Turning numeric columns like age into a category with is_child, for example with a boolean.\n",
    "Where does it make logical sense to combine columns"
   ]
  }
 ],
 "metadata": {
  "kernelspec": {
   "display_name": "Python 3 (ipykernel)",
   "language": "python",
   "name": "python3"
  },
  "language_info": {
   "codemirror_mode": {
    "name": "ipython",
    "version": 3
   },
   "file_extension": ".py",
   "mimetype": "text/x-python",
   "name": "python",
   "nbconvert_exporter": "python",
   "pygments_lexer": "ipython3",
   "version": "3.9.13"
  }
 },
 "nbformat": 4,
 "nbformat_minor": 5
}
